{
 "cells": [
  {
   "cell_type": "markdown",
   "id": "facial-nothing",
   "metadata": {},
   "source": [
    "# Multivariate Decomposition\n",
    "This notebook explores various methods to summarize high dimensional data.\n",
    "\n",
    "Such methods are known technique known as [dimensionality reduction](https://en.wikipedia.org/wiki/Dimensionality_reduction)"
   ]
  },
  {
   "cell_type": "code",
   "execution_count": 18,
   "id": "applied-eligibility",
   "metadata": {},
   "outputs": [],
   "source": [
    "# for the pandas database\n",
    "import numpy as np\n",
    "import matplotlib.pyplot as plt\n",
    "import pandas as pd\n",
    "import seaborn as sns\n",
    "from sklearn.decomposition import FastICA, PCA\n",
    "\n",
    "import glob\n",
    "import pprint\n",
    "import json\n",
    "\n",
    "# to load image data\n",
    "from PIL import Image\n",
    "\n",
    "# set nice defaults for seaborn plotting library\n",
    "sns.set()"
   ]
  },
  {
   "cell_type": "markdown",
   "id": "outside-officer",
   "metadata": {},
   "source": [
    "We'll start with creating the familiar `facedb`"
   ]
  },
  {
   "cell_type": "code",
   "execution_count": 19,
   "id": "legendary-correspondence",
   "metadata": {},
   "outputs": [],
   "source": [
    "def create_facedb(dir=\"/srv/data/faces/generated.photos\"):\n",
    "    '''create a database of all the generated faces found in the supplied directory'''\n",
    "    db = pd.DataFrame()\n",
    "    pattern = dir + \"/*.jpg\"\n",
    "    face_photos = glob.glob(pattern)\n",
    "    db[\"fullpath\"] = face_photos\n",
    "    partitioned = db[\"fullpath\"].str.rpartition(\"/\")\n",
    "    db[\"filename\"] = partitioned.values[:, 2]\n",
    "    db[\"faceid\"] = db[\"filename\"].str.extract(r\"_(\\d{7})[_.]\")\n",
    "\n",
    "    json_files = db[\"fullpath\"].str.replace(\"/generated.photos/\", \n",
    "                                            \"/generated.photos_metadata/\", regex=False)\n",
    "    json_files = json_files.str.replace(\".jpg\", \".json\", regex=False)\n",
    "    db[\"jsonfile\"] = json_files\n",
    "    return db\n",
    "\n",
    "def read_metadata(facedb, id):\n",
    "    '''return a string containing the \\\"faceAttributes\\\" for the given face'''\n",
    "    with open(facedb[\"jsonfile\"][id]) as f:\n",
    "        data = json.load(f)\n",
    "    attributeInfo = pprint.pformat(data[\"faceAttributes\"])\n",
    "    return attributeInfo\n",
    "\n",
    "# call create_facedb() to create a pandas DataFrame called \"facedb\"\n",
    "facedb = create_facedb()"
   ]
  },
  {
   "cell_type": "markdown",
   "id": "superb-given",
   "metadata": {},
   "source": [
    "Now we will create a function that converts the images to gray scale, and returns a list of the pixel intensity values"
   ]
  },
  {
   "cell_type": "code",
   "execution_count": 88,
   "id": "accepting-gauge",
   "metadata": {},
   "outputs": [
    {
     "ename": "KeyboardInterrupt",
     "evalue": "",
     "output_type": "error",
     "traceback": [
      "\u001b[0;31m---------------------------------------------------------------------------\u001b[0m",
      "\u001b[0;31mKeyboardInterrupt\u001b[0m                         Traceback (most recent call last)",
      "\u001b[0;32m<ipython-input-88-28ba5feaf8e7>\u001b[0m in \u001b[0;36m<module>\u001b[0;34m\u001b[0m\n\u001b[1;32m      9\u001b[0m         \u001b[0mdata_list\u001b[0m\u001b[0;34m.\u001b[0m\u001b[0mappend\u001b[0m\u001b[0;34m(\u001b[0m\u001b[0mgray_image\u001b[0m\u001b[0;34m[\u001b[0m\u001b[0;34m:\u001b[0m\u001b[0;34m:\u001b[0m\u001b[0mdownsample\u001b[0m\u001b[0;34m,\u001b[0m \u001b[0;34m:\u001b[0m\u001b[0;34m:\u001b[0m\u001b[0mdownsample\u001b[0m\u001b[0;34m]\u001b[0m\u001b[0;34m)\u001b[0m\u001b[0;34m\u001b[0m\u001b[0;34m\u001b[0m\u001b[0m\n\u001b[1;32m     10\u001b[0m     \u001b[0;32mreturn\u001b[0m \u001b[0mdata_list\u001b[0m\u001b[0;34m\u001b[0m\u001b[0;34m\u001b[0m\u001b[0m\n\u001b[0;32m---> 11\u001b[0;31m \u001b[0mimage_list\u001b[0m \u001b[0;34m=\u001b[0m \u001b[0mget_pixel_data\u001b[0m\u001b[0;34m(\u001b[0m\u001b[0mrange\u001b[0m\u001b[0;34m(\u001b[0m\u001b[0mlen\u001b[0m\u001b[0;34m(\u001b[0m\u001b[0mfacedb\u001b[0m\u001b[0;34m)\u001b[0m\u001b[0;34m)\u001b[0m\u001b[0;34m)\u001b[0m\u001b[0;34m\u001b[0m\u001b[0;34m\u001b[0m\u001b[0m\n\u001b[0m",
      "\u001b[0;32m<ipython-input-88-28ba5feaf8e7>\u001b[0m in \u001b[0;36mget_pixel_data\u001b[0;34m(face_ids)\u001b[0m\n\u001b[1;32m      4\u001b[0m     \u001b[0;32mfor\u001b[0m \u001b[0mid\u001b[0m \u001b[0;32min\u001b[0m \u001b[0mface_ids\u001b[0m\u001b[0;34m:\u001b[0m\u001b[0;34m\u001b[0m\u001b[0;34m\u001b[0m\u001b[0m\n\u001b[1;32m      5\u001b[0m         \u001b[0mim\u001b[0m \u001b[0;34m=\u001b[0m \u001b[0mImage\u001b[0m\u001b[0;34m.\u001b[0m\u001b[0mopen\u001b[0m\u001b[0;34m(\u001b[0m\u001b[0mfacedb\u001b[0m\u001b[0;34m[\u001b[0m\u001b[0;34m\"fullpath\"\u001b[0m\u001b[0;34m]\u001b[0m\u001b[0;34m[\u001b[0m\u001b[0mid\u001b[0m\u001b[0;34m]\u001b[0m\u001b[0;34m,\u001b[0m \u001b[0;34m'r'\u001b[0m\u001b[0;34m)\u001b[0m\u001b[0;34m\u001b[0m\u001b[0;34m\u001b[0m\u001b[0m\n\u001b[0;32m----> 6\u001b[0;31m         \u001b[0mim_data\u001b[0m \u001b[0;34m=\u001b[0m \u001b[0mnp\u001b[0m\u001b[0;34m.\u001b[0m\u001b[0marray\u001b[0m\u001b[0;34m(\u001b[0m\u001b[0mim\u001b[0m\u001b[0;34m.\u001b[0m\u001b[0mgetdata\u001b[0m\u001b[0;34m(\u001b[0m\u001b[0;34m)\u001b[0m\u001b[0;34m)\u001b[0m\u001b[0;34m\u001b[0m\u001b[0;34m\u001b[0m\u001b[0m\n\u001b[0m\u001b[1;32m      7\u001b[0m         \u001b[0mrgb_weights\u001b[0m \u001b[0;34m=\u001b[0m \u001b[0;34m[\u001b[0m\u001b[0;36m0.2989\u001b[0m\u001b[0;34m,\u001b[0m \u001b[0;36m0.5870\u001b[0m\u001b[0;34m,\u001b[0m \u001b[0;36m0.1140\u001b[0m\u001b[0;34m]\u001b[0m \u001b[0;31m# Used to convert images to grayscale\u001b[0m\u001b[0;34m\u001b[0m\u001b[0;34m\u001b[0m\u001b[0m\n\u001b[1;32m      8\u001b[0m         \u001b[0mgray_image\u001b[0m \u001b[0;34m=\u001b[0m  \u001b[0mnp\u001b[0m\u001b[0;34m.\u001b[0m\u001b[0mdot\u001b[0m\u001b[0;34m(\u001b[0m\u001b[0mim_data\u001b[0m\u001b[0;34m,\u001b[0m \u001b[0mrgb_weights\u001b[0m\u001b[0;34m)\u001b[0m\u001b[0;34m.\u001b[0m\u001b[0mreshape\u001b[0m\u001b[0;34m(\u001b[0m\u001b[0;36m256\u001b[0m\u001b[0;34m,\u001b[0m\u001b[0;36m256\u001b[0m\u001b[0;34m)\u001b[0m\u001b[0;34m\u001b[0m\u001b[0;34m\u001b[0m\u001b[0m\n",
      "\u001b[0;31mKeyboardInterrupt\u001b[0m: "
     ]
    }
   ],
   "source": [
    "downsample = 10\n",
    "def get_pixel_data(face_ids):\n",
    "    data_list = []\n",
    "    for id in face_ids:\n",
    "        im = Image.open(facedb[\"fullpath\"][id], 'r')\n",
    "        im_data = np.array(im.getdata())\n",
    "        rgb_weights = [0.2989, 0.5870, 0.1140] # Used to convert images to grayscale\n",
    "        gray_image =  np.dot(im_data, rgb_weights).reshape(256,256)\n",
    "        data_list.append(gray_image[::downsample, ::downsample])\n",
    "    return data_list\n",
    "image_list = get_pixel_data(range(100))"
   ]
  },
  {
   "cell_type": "code",
   "execution_count": 84,
   "id": "pointed-mounting",
   "metadata": {},
   "outputs": [
    {
     "data": {
      "text/plain": [
       "<matplotlib.image.AxesImage at 0x7f410ad6fcc0>"
      ]
     },
     "execution_count": 84,
     "metadata": {},
     "output_type": "execute_result"
    },
    {
     "data": {
      "image/png": "[encoded data removed]",
      "text/plain": [
       "<Figure size 432x288 with 1 Axes>"
      ]
     },
     "metadata": {},
     "output_type": "display_data"
    }
   ],
   "source": [
    "plt.imshow(image_list[5], cmap='gray')"
   ]
  },
  {
   "cell_type": "code",
   "execution_count": null,
   "id": "covered-trading",
   "metadata": {},
   "outputs": [],
   "source": []
  }
 ],
 "metadata": {
  "kernelspec": {
   "display_name": "Python 3",
   "language": "python",
   "name": "python3"
  },
  "language_info": {
   "codemirror_mode": {
    "name": "ipython",
    "version": 3
   },
   "file_extension": ".py",
   "mimetype": "text/x-python",
   "name": "python",
   "nbconvert_exporter": "python",
   "pygments_lexer": "ipython3",
   "version": "3.7.3"
  }
 },
 "nbformat": 4,
 "nbformat_minor": 5
}
